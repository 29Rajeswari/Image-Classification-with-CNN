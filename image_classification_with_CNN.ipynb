{
  "nbformat": 4,
  "nbformat_minor": 0,
  "metadata": {
    "colab": {
      "private_outputs": true,
      "provenance": [],
      "authorship_tag": "ABX9TyPg0A65MviolbaVy/tFPS59",
      "include_colab_link": true
    },
    "kernelspec": {
      "name": "python3",
      "display_name": "Python 3"
    },
    "language_info": {
      "name": "python"
    }
  },
  "cells": [
    {
      "cell_type": "markdown",
      "metadata": {
        "id": "view-in-github",
        "colab_type": "text"
      },
      "source": [
        "<a href=\"https://colab.research.google.com/github/29Rajeswari/Image-Classification-with-CNN/blob/main/image_classification_with_CNN.ipynb\" target=\"_parent\"><img src=\"https://colab.research.google.com/assets/colab-badge.svg\" alt=\"Open In Colab\"/></a>"
      ]
    },
    {
      "cell_type": "code",
      "source": [],
      "metadata": {
        "id": "gdlDpb1Bb0FQ"
      },
      "execution_count": null,
      "outputs": []
    },
    {
      "cell_type": "markdown",
      "source": [
        "# **IMAGE CLASSIFICATION WITH CNN**"
      ],
      "metadata": {
        "id": "isaTQ4OaNI7V"
      }
    },
    {
      "cell_type": "code",
      "source": [
        "# Simple CNN on CIFAR-10 in Google Colab\n",
        "\n",
        "import tensorflow as tf\n",
        "from tensorflow.keras import layers, models\n",
        "import matplotlib.pyplot as plt\n",
        "\n",
        "# Load CIFAR-10 dataset\n",
        "(x_train, y_train), (x_test, y_test) = tf.keras.datasets.cifar10.load_data()\n",
        "\n",
        "# Normalize the data\n",
        "x_train, x_test = x_train / 255.0, x_test / 255.0\n",
        "\n",
        "# Define a simple CNN model\n",
        "model = models.Sequential([\n",
        "    layers.Conv2D(32, (3, 3), activation='relu', input_shape=(32, 32, 3)),\n",
        "    layers.MaxPooling2D(2, 2),\n",
        "\n",
        "    layers.Conv2D(64, (3, 3), activation='relu'),\n",
        "    layers.MaxPooling2D(2, 2),\n",
        "\n",
        "    layers.Flatten(),\n",
        "    layers.Dense(64, activation='relu'),\n",
        "    layers.Dense(10, activation='softmax')\n",
        "])\n",
        "\n",
        "# Compile model\n",
        "model.compile(optimizer='adam',\n",
        "              loss='sparse_categorical_crossentropy',\n",
        "              metrics=['accuracy'])\n",
        "\n",
        "# Train model\n",
        "model.fit(x_train, y_train, epochs=10, validation_data=(x_test, y_test))\n",
        "\n",
        "# Evaluate model\n",
        "test_loss, test_acc = model.evaluate(x_test, y_test, verbose=2)\n",
        "print(f\"Test Accuracy: {test_acc:.4f}\")"
      ],
      "metadata": {
        "id": "Sxv5JNw--ClM"
      },
      "execution_count": null,
      "outputs": []
    },
    {
      "cell_type": "code",
      "source": [
        "test_loss, test_acc = model.evaluate(x_test, y_test, verbose=2)\n",
        "print(f\"Test Accuracy: {test_acc:.4f}\")"
      ],
      "metadata": {
        "id": "nxg4CSgY_3rW"
      },
      "execution_count": null,
      "outputs": []
    },
    {
      "cell_type": "code",
      "source": [
        "import matplotlib.pyplot as plt\n",
        "import numpy as np\n",
        "\n",
        "# Class labels for CIFAR-10\n",
        "class_names = ['airplane', 'automobile', 'bird', 'cat', 'deer',\n",
        "               'dog', 'frog', 'horse', 'ship', 'truck']\n",
        "\n",
        "# Predict on the test set\n",
        "predictions = model.predict(x_test)\n",
        "\n",
        "# Set number of images to show\n",
        "num_images = 10\n",
        "\n",
        "plt.figure(figsize=(15, 6))\n",
        "\n",
        "for i in range(num_images):\n",
        "    plt.subplot(2, 5, i + 1)\n",
        "    plt.imshow(x_test[i])\n",
        "    pred_label = class_names[np.argmax(predictions[i])]\n",
        "    true_label = class_names[int(y_test[i])]\n",
        "    color = 'green' if pred_label == true_label else 'red'\n",
        "    plt.title(f\"P: {pred_label}\\nA: {true_label}\", color=color)\n",
        "    plt.axis('off')\n",
        "\n",
        "plt.tight_layout()\n",
        "plt.show()"
      ],
      "metadata": {
        "id": "DROPl8njIYBQ"
      },
      "execution_count": null,
      "outputs": []
    },
    {
      "cell_type": "code",
      "source": [],
      "metadata": {
        "id": "ihyAnimfJGdK"
      },
      "execution_count": null,
      "outputs": []
    },
    {
      "cell_type": "code",
      "source": [
        "import matplotlib.pyplot as plt\n",
        "import numpy as np\n",
        "import tensorflow as tf\n",
        "\n",
        "# CIFAR-10 class labels\n",
        "class_names = ['airplane', 'automobile', 'bird', 'cat', 'deer',\n",
        "               'dog', 'frog', 'horse', 'ship', 'lion']\n",
        "\n",
        "# Predict on the test set\n",
        "predictions = model.predict(x_test)\n",
        "\n",
        "# Show side-by-side comparisons\n",
        "num_images = 5  # Number of examples to display\n",
        "plt.figure(figsize=(10, num_images * 3))\n",
        "\n",
        "for i in range(num_images):\n",
        "    pred_idx = np.argmax(predictions[i])\n",
        "    true_idx = int(y_test[i])\n",
        "\n",
        "    # Predicted image (original resolution)\n",
        "    pred_img = x_test[i]\n",
        "\n",
        "    # Actual image (HD version)\n",
        "    actual_hd_img = tf.image.resize(x_test[i], [2048, 2048], method='bicubic').numpy()\n",
        "    actual_hd_img = np.clip(actual_hd_img, 0, 1)  # Ensure values are in valid range\n",
        "\n",
        "    # Show predicted image\n",
        "    plt.subplot(num_images, 2, 2 * i + 1)\n",
        "    plt.imshow(pred_img)\n",
        "    plt.title(f\"Predicted: {class_names[pred_idx]}\", color='green' if pred_idx == true_idx else 'red')\n",
        "    plt.axis('off')\n",
        "\n",
        "    # Show actual HD image\n",
        "    plt.subplot(num_images, 2, 2 * i + 2)\n",
        "    plt.imshow(actual_hd_img)\n",
        "    plt.title(f\"Actual: {class_names[true_idx]}\")\n",
        "    plt.axis('off')\n",
        "\n",
        "plt.tight_layout()\n",
        "plt.show()"
      ],
      "metadata": {
        "id": "aBVV5MuXLIF2"
      },
      "execution_count": null,
      "outputs": []
    },
    {
      "cell_type": "code",
      "source": [],
      "metadata": {
        "id": "OCbr0QzJLdFE"
      },
      "execution_count": null,
      "outputs": []
    }
  ]
}